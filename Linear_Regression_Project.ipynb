{
  "nbformat": 4,
  "nbformat_minor": 0,
  "metadata": {
    "colab": {
      "name": "Linear Regression Project.ipynb",
      "provenance": [],
      "collapsed_sections": [],
      "authorship_tag": "ABX9TyNNyjO4kDxkq2YHx2VjxA5v",
      "include_colab_link": true
    },
    "kernelspec": {
      "name": "python3",
      "display_name": "Python 3"
    },
    "language_info": {
      "name": "python"
    }
  },
  "cells": [
    {
      "cell_type": "markdown",
      "metadata": {
        "id": "view-in-github",
        "colab_type": "text"
      },
      "source": [
        "<a href=\"https://colab.research.google.com/github/Rohithtechis/Linear-Regression-project/blob/main/Linear_Regression_Project.ipynb\" target=\"_parent\"><img src=\"https://colab.research.google.com/assets/colab-badge.svg\" alt=\"Open In Colab\"/></a>"
      ]
    },
    {
      "cell_type": "code",
      "metadata": {
        "id": "iSH3Kf6dBksS"
      },
      "source": [
        "import pandas as pd\n",
        "import numpy as np\n",
        "\n",
        "import warnings\n",
        "warnings.filterwarnings('ignore')\n",
        "\n",
        "import seaborn as sns\n",
        "import matplotlib.pyplot as plt\n",
        "%matplotlib inline\n",
        "sns.set(style='white', color_codes=True)"
      ],
      "execution_count": 191,
      "outputs": []
    },
    {
      "cell_type": "code",
      "metadata": {
        "colab": {
          "base_uri": "https://localhost:8080/",
          "height": 343
        },
        "id": "kZvo9NXAjeNm",
        "outputId": "2eed41ac-7a5d-485c-fdb1-ad3ac6409088"
      },
      "source": [
        "data=pd.read_csv('/content/SeoulBikeData.csv')\n",
        "data.head()"
      ],
      "execution_count": 193,
      "outputs": [
        {
          "output_type": "execute_result",
          "data": {
            "text/html": [
              "<div>\n",
              "<style scoped>\n",
              "    .dataframe tbody tr th:only-of-type {\n",
              "        vertical-align: middle;\n",
              "    }\n",
              "\n",
              "    .dataframe tbody tr th {\n",
              "        vertical-align: top;\n",
              "    }\n",
              "\n",
              "    .dataframe thead th {\n",
              "        text-align: right;\n",
              "    }\n",
              "</style>\n",
              "<table border=\"1\" class=\"dataframe\">\n",
              "  <thead>\n",
              "    <tr style=\"text-align: right;\">\n",
              "      <th></th>\n",
              "      <th>Date</th>\n",
              "      <th>Rented Bike Count</th>\n",
              "      <th>Hour</th>\n",
              "      <th>Temperature(C)</th>\n",
              "      <th>Humidity(%)</th>\n",
              "      <th>Wind speed (m/s)</th>\n",
              "      <th>Visibility (10m)</th>\n",
              "      <th>Dew point temperature(C)</th>\n",
              "      <th>Solar Radiation (MJ/m2)</th>\n",
              "      <th>Rainfall(mm)</th>\n",
              "      <th>Snowfall (cm)</th>\n",
              "      <th>Seasons</th>\n",
              "      <th>Holiday</th>\n",
              "      <th>Functioning Day</th>\n",
              "    </tr>\n",
              "  </thead>\n",
              "  <tbody>\n",
              "    <tr>\n",
              "      <th>0</th>\n",
              "      <td>01/12/2017</td>\n",
              "      <td>254</td>\n",
              "      <td>0</td>\n",
              "      <td>-5.2</td>\n",
              "      <td>37</td>\n",
              "      <td>2.2</td>\n",
              "      <td>2000</td>\n",
              "      <td>-17.6</td>\n",
              "      <td>0.0</td>\n",
              "      <td>0.0</td>\n",
              "      <td>0.0</td>\n",
              "      <td>Winter</td>\n",
              "      <td>No Holiday</td>\n",
              "      <td>Yes</td>\n",
              "    </tr>\n",
              "    <tr>\n",
              "      <th>1</th>\n",
              "      <td>01/12/2017</td>\n",
              "      <td>204</td>\n",
              "      <td>1</td>\n",
              "      <td>-5.5</td>\n",
              "      <td>38</td>\n",
              "      <td>0.8</td>\n",
              "      <td>2000</td>\n",
              "      <td>-17.6</td>\n",
              "      <td>0.0</td>\n",
              "      <td>0.0</td>\n",
              "      <td>0.0</td>\n",
              "      <td>Winter</td>\n",
              "      <td>No Holiday</td>\n",
              "      <td>Yes</td>\n",
              "    </tr>\n",
              "    <tr>\n",
              "      <th>2</th>\n",
              "      <td>01/12/2017</td>\n",
              "      <td>173</td>\n",
              "      <td>2</td>\n",
              "      <td>-6.0</td>\n",
              "      <td>39</td>\n",
              "      <td>1.0</td>\n",
              "      <td>2000</td>\n",
              "      <td>-17.7</td>\n",
              "      <td>0.0</td>\n",
              "      <td>0.0</td>\n",
              "      <td>0.0</td>\n",
              "      <td>Winter</td>\n",
              "      <td>No Holiday</td>\n",
              "      <td>Yes</td>\n",
              "    </tr>\n",
              "    <tr>\n",
              "      <th>3</th>\n",
              "      <td>01/12/2017</td>\n",
              "      <td>107</td>\n",
              "      <td>3</td>\n",
              "      <td>-6.2</td>\n",
              "      <td>40</td>\n",
              "      <td>0.9</td>\n",
              "      <td>2000</td>\n",
              "      <td>-17.6</td>\n",
              "      <td>0.0</td>\n",
              "      <td>0.0</td>\n",
              "      <td>0.0</td>\n",
              "      <td>Winter</td>\n",
              "      <td>No Holiday</td>\n",
              "      <td>Yes</td>\n",
              "    </tr>\n",
              "    <tr>\n",
              "      <th>4</th>\n",
              "      <td>01/12/2017</td>\n",
              "      <td>78</td>\n",
              "      <td>4</td>\n",
              "      <td>-6.0</td>\n",
              "      <td>36</td>\n",
              "      <td>2.3</td>\n",
              "      <td>2000</td>\n",
              "      <td>-18.6</td>\n",
              "      <td>0.0</td>\n",
              "      <td>0.0</td>\n",
              "      <td>0.0</td>\n",
              "      <td>Winter</td>\n",
              "      <td>No Holiday</td>\n",
              "      <td>Yes</td>\n",
              "    </tr>\n",
              "  </tbody>\n",
              "</table>\n",
              "</div>"
            ],
            "text/plain": [
              "         Date  Rented Bike Count  Hour  ...  Seasons     Holiday  Functioning Day\n",
              "0  01/12/2017                254     0  ...   Winter  No Holiday              Yes\n",
              "1  01/12/2017                204     1  ...   Winter  No Holiday              Yes\n",
              "2  01/12/2017                173     2  ...   Winter  No Holiday              Yes\n",
              "3  01/12/2017                107     3  ...   Winter  No Holiday              Yes\n",
              "4  01/12/2017                 78     4  ...   Winter  No Holiday              Yes\n",
              "\n",
              "[5 rows x 14 columns]"
            ]
          },
          "metadata": {},
          "execution_count": 193
        }
      ]
    },
    {
      "cell_type": "code",
      "metadata": {
        "colab": {
          "base_uri": "https://localhost:8080/"
        },
        "id": "bYFVFupvo_5O",
        "outputId": "6dddc663-f9e7-43a9-fa5b-a32ed63d3400"
      },
      "source": [
        "print('Dimension of dataset is',data.shape)"
      ],
      "execution_count": 197,
      "outputs": [
        {
          "output_type": "stream",
          "name": "stdout",
          "text": [
            "Dimension of dataset is (8760, 14)\n"
          ]
        }
      ]
    },
    {
      "cell_type": "code",
      "metadata": {
        "colab": {
          "base_uri": "https://localhost:8080/"
        },
        "id": "gax0GUVwo_6s",
        "outputId": "304dc4a0-c64e-4927-861c-9c5e7f840e00"
      },
      "source": [
        "data.info()"
      ],
      "execution_count": 198,
      "outputs": [
        {
          "output_type": "stream",
          "name": "stdout",
          "text": [
            "<class 'pandas.core.frame.DataFrame'>\n",
            "RangeIndex: 8760 entries, 0 to 8759\n",
            "Data columns (total 14 columns):\n",
            " #   Column                    Non-Null Count  Dtype  \n",
            "---  ------                    --------------  -----  \n",
            " 0   Date                      8760 non-null   object \n",
            " 1   Rented Bike Count         8760 non-null   int64  \n",
            " 2   Hour                      8760 non-null   int64  \n",
            " 3   Temperature(C)            8760 non-null   float64\n",
            " 4   Humidity(%)               8760 non-null   int64  \n",
            " 5   Wind speed (m/s)          8760 non-null   float64\n",
            " 6   Visibility (10m)          8760 non-null   int64  \n",
            " 7   Dew point temperature(C)  8760 non-null   float64\n",
            " 8   Solar Radiation (MJ/m2)   8760 non-null   float64\n",
            " 9   Rainfall(mm)              8760 non-null   float64\n",
            " 10  Snowfall (cm)             8760 non-null   float64\n",
            " 11  Seasons                   8760 non-null   object \n",
            " 12  Holiday                   8760 non-null   object \n",
            " 13  Functioning Day           8760 non-null   object \n",
            "dtypes: float64(6), int64(4), object(4)\n",
            "memory usage: 958.2+ KB\n"
          ]
        }
      ]
    },
    {
      "cell_type": "code",
      "metadata": {
        "colab": {
          "base_uri": "https://localhost:8080/",
          "height": 351
        },
        "id": "ntRR_mhYpz4T",
        "outputId": "98e214ac-3b2a-4cbe-86ac-c88364daee6f"
      },
      "source": [
        "data.describe()"
      ],
      "execution_count": 201,
      "outputs": [
        {
          "output_type": "execute_result",
          "data": {
            "text/html": [
              "<div>\n",
              "<style scoped>\n",
              "    .dataframe tbody tr th:only-of-type {\n",
              "        vertical-align: middle;\n",
              "    }\n",
              "\n",
              "    .dataframe tbody tr th {\n",
              "        vertical-align: top;\n",
              "    }\n",
              "\n",
              "    .dataframe thead th {\n",
              "        text-align: right;\n",
              "    }\n",
              "</style>\n",
              "<table border=\"1\" class=\"dataframe\">\n",
              "  <thead>\n",
              "    <tr style=\"text-align: right;\">\n",
              "      <th></th>\n",
              "      <th>Rented Bike Count</th>\n",
              "      <th>Hour</th>\n",
              "      <th>Temperature(C)</th>\n",
              "      <th>Humidity(%)</th>\n",
              "      <th>Wind speed (m/s)</th>\n",
              "      <th>Visibility (10m)</th>\n",
              "      <th>Dew point temperature(C)</th>\n",
              "      <th>Solar Radiation (MJ/m2)</th>\n",
              "      <th>Rainfall(mm)</th>\n",
              "      <th>Snowfall (cm)</th>\n",
              "    </tr>\n",
              "  </thead>\n",
              "  <tbody>\n",
              "    <tr>\n",
              "      <th>count</th>\n",
              "      <td>8760.000000</td>\n",
              "      <td>8760.000000</td>\n",
              "      <td>8760.000000</td>\n",
              "      <td>8760.000000</td>\n",
              "      <td>8760.000000</td>\n",
              "      <td>8760.000000</td>\n",
              "      <td>8760.000000</td>\n",
              "      <td>8760.000000</td>\n",
              "      <td>8760.000000</td>\n",
              "      <td>8760.000000</td>\n",
              "    </tr>\n",
              "    <tr>\n",
              "      <th>mean</th>\n",
              "      <td>704.602055</td>\n",
              "      <td>11.500000</td>\n",
              "      <td>12.882922</td>\n",
              "      <td>58.226256</td>\n",
              "      <td>1.724909</td>\n",
              "      <td>1436.825799</td>\n",
              "      <td>4.073813</td>\n",
              "      <td>0.569111</td>\n",
              "      <td>0.148687</td>\n",
              "      <td>0.075068</td>\n",
              "    </tr>\n",
              "    <tr>\n",
              "      <th>std</th>\n",
              "      <td>644.997468</td>\n",
              "      <td>6.922582</td>\n",
              "      <td>11.944825</td>\n",
              "      <td>20.362413</td>\n",
              "      <td>1.036300</td>\n",
              "      <td>608.298712</td>\n",
              "      <td>13.060369</td>\n",
              "      <td>0.868746</td>\n",
              "      <td>1.128193</td>\n",
              "      <td>0.436746</td>\n",
              "    </tr>\n",
              "    <tr>\n",
              "      <th>min</th>\n",
              "      <td>0.000000</td>\n",
              "      <td>0.000000</td>\n",
              "      <td>-17.800000</td>\n",
              "      <td>0.000000</td>\n",
              "      <td>0.000000</td>\n",
              "      <td>27.000000</td>\n",
              "      <td>-30.600000</td>\n",
              "      <td>0.000000</td>\n",
              "      <td>0.000000</td>\n",
              "      <td>0.000000</td>\n",
              "    </tr>\n",
              "    <tr>\n",
              "      <th>25%</th>\n",
              "      <td>191.000000</td>\n",
              "      <td>5.750000</td>\n",
              "      <td>3.500000</td>\n",
              "      <td>42.000000</td>\n",
              "      <td>0.900000</td>\n",
              "      <td>940.000000</td>\n",
              "      <td>-4.700000</td>\n",
              "      <td>0.000000</td>\n",
              "      <td>0.000000</td>\n",
              "      <td>0.000000</td>\n",
              "    </tr>\n",
              "    <tr>\n",
              "      <th>50%</th>\n",
              "      <td>504.500000</td>\n",
              "      <td>11.500000</td>\n",
              "      <td>13.700000</td>\n",
              "      <td>57.000000</td>\n",
              "      <td>1.500000</td>\n",
              "      <td>1698.000000</td>\n",
              "      <td>5.100000</td>\n",
              "      <td>0.010000</td>\n",
              "      <td>0.000000</td>\n",
              "      <td>0.000000</td>\n",
              "    </tr>\n",
              "    <tr>\n",
              "      <th>75%</th>\n",
              "      <td>1065.250000</td>\n",
              "      <td>17.250000</td>\n",
              "      <td>22.500000</td>\n",
              "      <td>74.000000</td>\n",
              "      <td>2.300000</td>\n",
              "      <td>2000.000000</td>\n",
              "      <td>14.800000</td>\n",
              "      <td>0.930000</td>\n",
              "      <td>0.000000</td>\n",
              "      <td>0.000000</td>\n",
              "    </tr>\n",
              "    <tr>\n",
              "      <th>max</th>\n",
              "      <td>3556.000000</td>\n",
              "      <td>23.000000</td>\n",
              "      <td>39.400000</td>\n",
              "      <td>98.000000</td>\n",
              "      <td>7.400000</td>\n",
              "      <td>2000.000000</td>\n",
              "      <td>27.200000</td>\n",
              "      <td>3.520000</td>\n",
              "      <td>35.000000</td>\n",
              "      <td>8.800000</td>\n",
              "    </tr>\n",
              "  </tbody>\n",
              "</table>\n",
              "</div>"
            ],
            "text/plain": [
              "       Rented Bike Count         Hour  ...  Rainfall(mm)  Snowfall (cm)\n",
              "count        8760.000000  8760.000000  ...   8760.000000    8760.000000\n",
              "mean          704.602055    11.500000  ...      0.148687       0.075068\n",
              "std           644.997468     6.922582  ...      1.128193       0.436746\n",
              "min             0.000000     0.000000  ...      0.000000       0.000000\n",
              "25%           191.000000     5.750000  ...      0.000000       0.000000\n",
              "50%           504.500000    11.500000  ...      0.000000       0.000000\n",
              "75%          1065.250000    17.250000  ...      0.000000       0.000000\n",
              "max          3556.000000    23.000000  ...     35.000000       8.800000\n",
              "\n",
              "[8 rows x 10 columns]"
            ]
          },
          "metadata": {},
          "execution_count": 201
        }
      ]
    },
    {
      "cell_type": "code",
      "metadata": {
        "colab": {
          "base_uri": "https://localhost:8080/"
        },
        "id": "LkO4b6z6yagp",
        "outputId": "0c9aed59-3afd-45b4-fcf6-7a4673b0c016"
      },
      "source": [
        "data.dtypes"
      ],
      "execution_count": 202,
      "outputs": [
        {
          "output_type": "execute_result",
          "data": {
            "text/plain": [
              "Date                         object\n",
              "Rented Bike Count             int64\n",
              "Hour                          int64\n",
              "Temperature(C)              float64\n",
              "Humidity(%)                   int64\n",
              "Wind speed (m/s)            float64\n",
              "Visibility (10m)              int64\n",
              "Dew point temperature(C)    float64\n",
              "Solar Radiation (MJ/m2)     float64\n",
              "Rainfall(mm)                float64\n",
              "Snowfall (cm)               float64\n",
              "Seasons                      object\n",
              "Holiday                      object\n",
              "Functioning Day              object\n",
              "dtype: object"
            ]
          },
          "metadata": {},
          "execution_count": 202
        }
      ]
    },
    {
      "cell_type": "code",
      "metadata": {
        "colab": {
          "base_uri": "https://localhost:8080/"
        },
        "id": "_CV4FBxFp_ZC",
        "outputId": "f1e711e8-51ba-4bfa-8699-906061e8d003"
      },
      "source": [
        "# The factors that influence the number of bike rented.\n",
        "df=data.columns[2:]\n",
        "df"
      ],
      "execution_count": 203,
      "outputs": [
        {
          "output_type": "execute_result",
          "data": {
            "text/plain": [
              "Index(['Hour', 'Temperature(C)', 'Humidity(%)', 'Wind speed (m/s)',\n",
              "       'Visibility (10m)', 'Dew point temperature(C)',\n",
              "       'Solar Radiation (MJ/m2)', 'Rainfall(mm)', 'Snowfall (cm)', 'Seasons',\n",
              "       'Holiday', 'Functioning Day'],\n",
              "      dtype='object')"
            ]
          },
          "metadata": {},
          "execution_count": 203
        }
      ]
    },
    {
      "cell_type": "code",
      "metadata": {
        "colab": {
          "base_uri": "https://localhost:8080/"
        },
        "id": "C3-a8cgqziR0",
        "outputId": "d211ab58-4fe7-4f36-d6e7-0f4d111d3a30"
      },
      "source": [
        "# ckecking the missing values\n",
        "data.isna().sum()"
      ],
      "execution_count": 204,
      "outputs": [
        {
          "output_type": "execute_result",
          "data": {
            "text/plain": [
              "Date                        0\n",
              "Rented Bike Count           0\n",
              "Hour                        0\n",
              "Temperature(C)              0\n",
              "Humidity(%)                 0\n",
              "Wind speed (m/s)            0\n",
              "Visibility (10m)            0\n",
              "Dew point temperature(C)    0\n",
              "Solar Radiation (MJ/m2)     0\n",
              "Rainfall(mm)                0\n",
              "Snowfall (cm)               0\n",
              "Seasons                     0\n",
              "Holiday                     0\n",
              "Functioning Day             0\n",
              "dtype: int64"
            ]
          },
          "metadata": {},
          "execution_count": 204
        }
      ]
    },
    {
      "cell_type": "code",
      "metadata": {
        "colab": {
          "base_uri": "https://localhost:8080/"
        },
        "id": "8gO2I-DSPaiX",
        "outputId": "958fb43b-f23f-4634-aec7-fc52cf8be9a9"
      },
      "source": [
        "from datetime import datetime\n",
        "data.Date=pd.to_datetime(data.Date)\n",
        "data.info()"
      ],
      "execution_count": 205,
      "outputs": [
        {
          "output_type": "stream",
          "name": "stdout",
          "text": [
            "<class 'pandas.core.frame.DataFrame'>\n",
            "RangeIndex: 8760 entries, 0 to 8759\n",
            "Data columns (total 14 columns):\n",
            " #   Column                    Non-Null Count  Dtype         \n",
            "---  ------                    --------------  -----         \n",
            " 0   Date                      8760 non-null   datetime64[ns]\n",
            " 1   Rented Bike Count         8760 non-null   int64         \n",
            " 2   Hour                      8760 non-null   int64         \n",
            " 3   Temperature(C)            8760 non-null   float64       \n",
            " 4   Humidity(%)               8760 non-null   int64         \n",
            " 5   Wind speed (m/s)          8760 non-null   float64       \n",
            " 6   Visibility (10m)          8760 non-null   int64         \n",
            " 7   Dew point temperature(C)  8760 non-null   float64       \n",
            " 8   Solar Radiation (MJ/m2)   8760 non-null   float64       \n",
            " 9   Rainfall(mm)              8760 non-null   float64       \n",
            " 10  Snowfall (cm)             8760 non-null   float64       \n",
            " 11  Seasons                   8760 non-null   object        \n",
            " 12  Holiday                   8760 non-null   object        \n",
            " 13  Functioning Day           8760 non-null   object        \n",
            "dtypes: datetime64[ns](1), float64(6), int64(4), object(3)\n",
            "memory usage: 958.2+ KB\n"
          ]
        }
      ]
    },
    {
      "cell_type": "code",
      "metadata": {
        "colab": {
          "base_uri": "https://localhost:8080/",
          "height": 343
        },
        "id": "lddPUi0RU3Fz",
        "outputId": "22ef835e-5f74-48e4-a1c8-fa5de4c7da64"
      },
      "source": [
        "data['Month']=pd.DatetimeIndex(data['Date']).month\n",
        "data['Year']=pd.DatetimeIndex(data['Date']).year\n",
        "data['tday']=pd.DatetimeIndex(data['Date']).day\n",
        "data.head()"
      ],
      "execution_count": 206,
      "outputs": [
        {
          "output_type": "execute_result",
          "data": {
            "text/html": [
              "<div>\n",
              "<style scoped>\n",
              "    .dataframe tbody tr th:only-of-type {\n",
              "        vertical-align: middle;\n",
              "    }\n",
              "\n",
              "    .dataframe tbody tr th {\n",
              "        vertical-align: top;\n",
              "    }\n",
              "\n",
              "    .dataframe thead th {\n",
              "        text-align: right;\n",
              "    }\n",
              "</style>\n",
              "<table border=\"1\" class=\"dataframe\">\n",
              "  <thead>\n",
              "    <tr style=\"text-align: right;\">\n",
              "      <th></th>\n",
              "      <th>Date</th>\n",
              "      <th>Rented Bike Count</th>\n",
              "      <th>Hour</th>\n",
              "      <th>Temperature(C)</th>\n",
              "      <th>Humidity(%)</th>\n",
              "      <th>Wind speed (m/s)</th>\n",
              "      <th>Visibility (10m)</th>\n",
              "      <th>Dew point temperature(C)</th>\n",
              "      <th>Solar Radiation (MJ/m2)</th>\n",
              "      <th>Rainfall(mm)</th>\n",
              "      <th>Snowfall (cm)</th>\n",
              "      <th>Seasons</th>\n",
              "      <th>Holiday</th>\n",
              "      <th>Functioning Day</th>\n",
              "      <th>Month</th>\n",
              "      <th>Year</th>\n",
              "      <th>tday</th>\n",
              "    </tr>\n",
              "  </thead>\n",
              "  <tbody>\n",
              "    <tr>\n",
              "      <th>0</th>\n",
              "      <td>2017-01-12</td>\n",
              "      <td>254</td>\n",
              "      <td>0</td>\n",
              "      <td>-5.2</td>\n",
              "      <td>37</td>\n",
              "      <td>2.2</td>\n",
              "      <td>2000</td>\n",
              "      <td>-17.6</td>\n",
              "      <td>0.0</td>\n",
              "      <td>0.0</td>\n",
              "      <td>0.0</td>\n",
              "      <td>Winter</td>\n",
              "      <td>No Holiday</td>\n",
              "      <td>Yes</td>\n",
              "      <td>1</td>\n",
              "      <td>2017</td>\n",
              "      <td>12</td>\n",
              "    </tr>\n",
              "    <tr>\n",
              "      <th>1</th>\n",
              "      <td>2017-01-12</td>\n",
              "      <td>204</td>\n",
              "      <td>1</td>\n",
              "      <td>-5.5</td>\n",
              "      <td>38</td>\n",
              "      <td>0.8</td>\n",
              "      <td>2000</td>\n",
              "      <td>-17.6</td>\n",
              "      <td>0.0</td>\n",
              "      <td>0.0</td>\n",
              "      <td>0.0</td>\n",
              "      <td>Winter</td>\n",
              "      <td>No Holiday</td>\n",
              "      <td>Yes</td>\n",
              "      <td>1</td>\n",
              "      <td>2017</td>\n",
              "      <td>12</td>\n",
              "    </tr>\n",
              "    <tr>\n",
              "      <th>2</th>\n",
              "      <td>2017-01-12</td>\n",
              "      <td>173</td>\n",
              "      <td>2</td>\n",
              "      <td>-6.0</td>\n",
              "      <td>39</td>\n",
              "      <td>1.0</td>\n",
              "      <td>2000</td>\n",
              "      <td>-17.7</td>\n",
              "      <td>0.0</td>\n",
              "      <td>0.0</td>\n",
              "      <td>0.0</td>\n",
              "      <td>Winter</td>\n",
              "      <td>No Holiday</td>\n",
              "      <td>Yes</td>\n",
              "      <td>1</td>\n",
              "      <td>2017</td>\n",
              "      <td>12</td>\n",
              "    </tr>\n",
              "    <tr>\n",
              "      <th>3</th>\n",
              "      <td>2017-01-12</td>\n",
              "      <td>107</td>\n",
              "      <td>3</td>\n",
              "      <td>-6.2</td>\n",
              "      <td>40</td>\n",
              "      <td>0.9</td>\n",
              "      <td>2000</td>\n",
              "      <td>-17.6</td>\n",
              "      <td>0.0</td>\n",
              "      <td>0.0</td>\n",
              "      <td>0.0</td>\n",
              "      <td>Winter</td>\n",
              "      <td>No Holiday</td>\n",
              "      <td>Yes</td>\n",
              "      <td>1</td>\n",
              "      <td>2017</td>\n",
              "      <td>12</td>\n",
              "    </tr>\n",
              "    <tr>\n",
              "      <th>4</th>\n",
              "      <td>2017-01-12</td>\n",
              "      <td>78</td>\n",
              "      <td>4</td>\n",
              "      <td>-6.0</td>\n",
              "      <td>36</td>\n",
              "      <td>2.3</td>\n",
              "      <td>2000</td>\n",
              "      <td>-18.6</td>\n",
              "      <td>0.0</td>\n",
              "      <td>0.0</td>\n",
              "      <td>0.0</td>\n",
              "      <td>Winter</td>\n",
              "      <td>No Holiday</td>\n",
              "      <td>Yes</td>\n",
              "      <td>1</td>\n",
              "      <td>2017</td>\n",
              "      <td>12</td>\n",
              "    </tr>\n",
              "  </tbody>\n",
              "</table>\n",
              "</div>"
            ],
            "text/plain": [
              "        Date  Rented Bike Count  Hour  ...  Month  Year  tday\n",
              "0 2017-01-12                254     0  ...      1  2017    12\n",
              "1 2017-01-12                204     1  ...      1  2017    12\n",
              "2 2017-01-12                173     2  ...      1  2017    12\n",
              "3 2017-01-12                107     3  ...      1  2017    12\n",
              "4 2017-01-12                 78     4  ...      1  2017    12\n",
              "\n",
              "[5 rows x 17 columns]"
            ]
          },
          "metadata": {},
          "execution_count": 206
        }
      ]
    },
    {
      "cell_type": "code",
      "metadata": {
        "id": "AkUdHkWizCza"
      },
      "source": [
        "#Exploring the data for outliers and missing values."
      ],
      "execution_count": 16,
      "outputs": []
    },
    {
      "cell_type": "code",
      "metadata": {
        "colab": {
          "base_uri": "https://localhost:8080/"
        },
        "id": "l-vWbFNdVu9y",
        "outputId": "a3c8c70b-c02b-47ce-c5e9-5839690b5dec"
      },
      "source": [
        "data.dtypes"
      ],
      "execution_count": 207,
      "outputs": [
        {
          "output_type": "execute_result",
          "data": {
            "text/plain": [
              "Date                        datetime64[ns]\n",
              "Rented Bike Count                    int64\n",
              "Hour                                 int64\n",
              "Temperature(C)                     float64\n",
              "Humidity(%)                          int64\n",
              "Wind speed (m/s)                   float64\n",
              "Visibility (10m)                     int64\n",
              "Dew point temperature(C)           float64\n",
              "Solar Radiation (MJ/m2)            float64\n",
              "Rainfall(mm)                       float64\n",
              "Snowfall (cm)                      float64\n",
              "Seasons                             object\n",
              "Holiday                             object\n",
              "Functioning Day                     object\n",
              "Month                                int64\n",
              "Year                                 int64\n",
              "tday                                 int64\n",
              "dtype: object"
            ]
          },
          "metadata": {},
          "execution_count": 207
        }
      ]
    },
    {
      "cell_type": "code",
      "metadata": {
        "id": "ufCPIB3P0jxT"
      },
      "source": [
        "# We plot boxplot to find the outliers. "
      ],
      "execution_count": null,
      "outputs": []
    },
    {
      "cell_type": "code",
      "metadata": {
        "id": "yyKoOEsQ7aqw",
        "colab": {
          "base_uri": "https://localhost:8080/",
          "height": 322
        },
        "outputId": "e132e2c7-5c60-4824-ce15-f42bbea51f05"
      },
      "source": [
        "plt.figure(figsize=(5,5))\n",
        "x=data['Rented Bike Count']\n",
        "plt.boxplot(x)\n",
        "plt.show()"
      ],
      "execution_count": 209,
      "outputs": [
        {
          "output_type": "display_data",
          "data": {
            "image/png": "[encoded data removed]",
            "text/plain": [
              "<Figure size 360x360 with 1 Axes>"
            ]
          },
          "metadata": {}
        }
      ]
    },
    {
      "cell_type": "code",
      "metadata": {
        "colab": {
          "base_uri": "https://localhost:8080/",
          "height": 204
        },
        "id": "6cbjJwHCPlHn",
        "outputId": "b8a76df7-81ec-43af-a3c3-e937989ad93c"
      },
      "source": [
        "d_ob=data.select_dtypes(include='object')\n",
        "d_ob.head()"
      ],
      "execution_count": 210,
      "outputs": [
        {
          "output_type": "execute_result",
          "data": {
            "text/html": [
              "<div>\n",
              "<style scoped>\n",
              "    .dataframe tbody tr th:only-of-type {\n",
              "        vertical-align: middle;\n",
              "    }\n",
              "\n",
              "    .dataframe tbody tr th {\n",
              "        vertical-align: top;\n",
              "    }\n",
              "\n",
              "    .dataframe thead th {\n",
              "        text-align: right;\n",
              "    }\n",
              "</style>\n",
              "<table border=\"1\" class=\"dataframe\">\n",
              "  <thead>\n",
              "    <tr style=\"text-align: right;\">\n",
              "      <th></th>\n",
              "      <th>Seasons</th>\n",
              "      <th>Holiday</th>\n",
              "      <th>Functioning Day</th>\n",
              "    </tr>\n",
              "  </thead>\n",
              "  <tbody>\n",
              "    <tr>\n",
              "      <th>0</th>\n",
              "      <td>Winter</td>\n",
              "      <td>No Holiday</td>\n",
              "      <td>Yes</td>\n",
              "    </tr>\n",
              "    <tr>\n",
              "      <th>1</th>\n",
              "      <td>Winter</td>\n",
              "      <td>No Holiday</td>\n",
              "      <td>Yes</td>\n",
              "    </tr>\n",
              "    <tr>\n",
              "      <th>2</th>\n",
              "      <td>Winter</td>\n",
              "      <td>No Holiday</td>\n",
              "      <td>Yes</td>\n",
              "    </tr>\n",
              "    <tr>\n",
              "      <th>3</th>\n",
              "      <td>Winter</td>\n",
              "      <td>No Holiday</td>\n",
              "      <td>Yes</td>\n",
              "    </tr>\n",
              "    <tr>\n",
              "      <th>4</th>\n",
              "      <td>Winter</td>\n",
              "      <td>No Holiday</td>\n",
              "      <td>Yes</td>\n",
              "    </tr>\n",
              "  </tbody>\n",
              "</table>\n",
              "</div>"
            ],
            "text/plain": [
              "  Seasons     Holiday Functioning Day\n",
              "0  Winter  No Holiday             Yes\n",
              "1  Winter  No Holiday             Yes\n",
              "2  Winter  No Holiday             Yes\n",
              "3  Winter  No Holiday             Yes\n",
              "4  Winter  No Holiday             Yes"
            ]
          },
          "metadata": {},
          "execution_count": 210
        }
      ]
    },
    {
      "cell_type": "code",
      "metadata": {
        "colab": {
          "base_uri": "https://localhost:8080/",
          "height": 343
        },
        "id": "ok1Fh3KiQtHZ",
        "outputId": "f0018f4f-7ed1-40f7-cb69-519eb1d339af"
      },
      "source": [
        "# Lets add dummies for catagorical variables\n",
        "data_cat=data\n",
        "for cols in d_ob:\n",
        "  dummies=pd.get_dummies(data[cols],drop_first=True)\n",
        "  data_cat=pd.concat([data_cat,dummies],axis='columns')\n",
        "data_cat.head()"
      ],
      "execution_count": 211,
      "outputs": [
        {
          "output_type": "execute_result",
          "data": {
            "text/html": [
              "<div>\n",
              "<style scoped>\n",
              "    .dataframe tbody tr th:only-of-type {\n",
              "        vertical-align: middle;\n",
              "    }\n",
              "\n",
              "    .dataframe tbody tr th {\n",
              "        vertical-align: top;\n",
              "    }\n",
              "\n",
              "    .dataframe thead th {\n",
              "        text-align: right;\n",
              "    }\n",
              "</style>\n",
              "<table border=\"1\" class=\"dataframe\">\n",
              "  <thead>\n",
              "    <tr style=\"text-align: right;\">\n",
              "      <th></th>\n",
              "      <th>Date</th>\n",
              "      <th>Rented Bike Count</th>\n",
              "      <th>Hour</th>\n",
              "      <th>Temperature(C)</th>\n",
              "      <th>Humidity(%)</th>\n",
              "      <th>Wind speed (m/s)</th>\n",
              "      <th>Visibility (10m)</th>\n",
              "      <th>Dew point temperature(C)</th>\n",
              "      <th>Solar Radiation (MJ/m2)</th>\n",
              "      <th>Rainfall(mm)</th>\n",
              "      <th>Snowfall (cm)</th>\n",
              "      <th>Seasons</th>\n",
              "      <th>Holiday</th>\n",
              "      <th>Functioning Day</th>\n",
              "      <th>Month</th>\n",
              "      <th>Year</th>\n",
              "      <th>tday</th>\n",
              "      <th>Spring</th>\n",
              "      <th>Summer</th>\n",
              "      <th>Winter</th>\n",
              "      <th>No Holiday</th>\n",
              "      <th>Yes</th>\n",
              "    </tr>\n",
              "  </thead>\n",
              "  <tbody>\n",
              "    <tr>\n",
              "      <th>0</th>\n",
              "      <td>2017-01-12</td>\n",
              "      <td>254</td>\n",
              "      <td>0</td>\n",
              "      <td>-5.2</td>\n",
              "      <td>37</td>\n",
              "      <td>2.2</td>\n",
              "      <td>2000</td>\n",
              "      <td>-17.6</td>\n",
              "      <td>0.0</td>\n",
              "      <td>0.0</td>\n",
              "      <td>0.0</td>\n",
              "      <td>Winter</td>\n",
              "      <td>No Holiday</td>\n",
              "      <td>Yes</td>\n",
              "      <td>1</td>\n",
              "      <td>2017</td>\n",
              "      <td>12</td>\n",
              "      <td>0</td>\n",
              "      <td>0</td>\n",
              "      <td>1</td>\n",
              "      <td>1</td>\n",
              "      <td>1</td>\n",
              "    </tr>\n",
              "    <tr>\n",
              "      <th>1</th>\n",
              "      <td>2017-01-12</td>\n",
              "      <td>204</td>\n",
              "      <td>1</td>\n",
              "      <td>-5.5</td>\n",
              "      <td>38</td>\n",
              "      <td>0.8</td>\n",
              "      <td>2000</td>\n",
              "      <td>-17.6</td>\n",
              "      <td>0.0</td>\n",
              "      <td>0.0</td>\n",
              "      <td>0.0</td>\n",
              "      <td>Winter</td>\n",
              "      <td>No Holiday</td>\n",
              "      <td>Yes</td>\n",
              "      <td>1</td>\n",
              "      <td>2017</td>\n",
              "      <td>12</td>\n",
              "      <td>0</td>\n",
              "      <td>0</td>\n",
              "      <td>1</td>\n",
              "      <td>1</td>\n",
              "      <td>1</td>\n",
              "    </tr>\n",
              "    <tr>\n",
              "      <th>2</th>\n",
              "      <td>2017-01-12</td>\n",
              "      <td>173</td>\n",
              "      <td>2</td>\n",
              "      <td>-6.0</td>\n",
              "      <td>39</td>\n",
              "      <td>1.0</td>\n",
              "      <td>2000</td>\n",
              "      <td>-17.7</td>\n",
              "      <td>0.0</td>\n",
              "      <td>0.0</td>\n",
              "      <td>0.0</td>\n",
              "      <td>Winter</td>\n",
              "      <td>No Holiday</td>\n",
              "      <td>Yes</td>\n",
              "      <td>1</td>\n",
              "      <td>2017</td>\n",
              "      <td>12</td>\n",
              "      <td>0</td>\n",
              "      <td>0</td>\n",
              "      <td>1</td>\n",
              "      <td>1</td>\n",
              "      <td>1</td>\n",
              "    </tr>\n",
              "    <tr>\n",
              "      <th>3</th>\n",
              "      <td>2017-01-12</td>\n",
              "      <td>107</td>\n",
              "      <td>3</td>\n",
              "      <td>-6.2</td>\n",
              "      <td>40</td>\n",
              "      <td>0.9</td>\n",
              "      <td>2000</td>\n",
              "      <td>-17.6</td>\n",
              "      <td>0.0</td>\n",
              "      <td>0.0</td>\n",
              "      <td>0.0</td>\n",
              "      <td>Winter</td>\n",
              "      <td>No Holiday</td>\n",
              "      <td>Yes</td>\n",
              "      <td>1</td>\n",
              "      <td>2017</td>\n",
              "      <td>12</td>\n",
              "      <td>0</td>\n",
              "      <td>0</td>\n",
              "      <td>1</td>\n",
              "      <td>1</td>\n",
              "      <td>1</td>\n",
              "    </tr>\n",
              "    <tr>\n",
              "      <th>4</th>\n",
              "      <td>2017-01-12</td>\n",
              "      <td>78</td>\n",
              "      <td>4</td>\n",
              "      <td>-6.0</td>\n",
              "      <td>36</td>\n",
              "      <td>2.3</td>\n",
              "      <td>2000</td>\n",
              "      <td>-18.6</td>\n",
              "      <td>0.0</td>\n",
              "      <td>0.0</td>\n",
              "      <td>0.0</td>\n",
              "      <td>Winter</td>\n",
              "      <td>No Holiday</td>\n",
              "      <td>Yes</td>\n",
              "      <td>1</td>\n",
              "      <td>2017</td>\n",
              "      <td>12</td>\n",
              "      <td>0</td>\n",
              "      <td>0</td>\n",
              "      <td>1</td>\n",
              "      <td>1</td>\n",
              "      <td>1</td>\n",
              "    </tr>\n",
              "  </tbody>\n",
              "</table>\n",
              "</div>"
            ],
            "text/plain": [
              "        Date  Rented Bike Count  Hour  ...  Winter  No Holiday  Yes\n",
              "0 2017-01-12                254     0  ...       1           1    1\n",
              "1 2017-01-12                204     1  ...       1           1    1\n",
              "2 2017-01-12                173     2  ...       1           1    1\n",
              "3 2017-01-12                107     3  ...       1           1    1\n",
              "4 2017-01-12                 78     4  ...       1           1    1\n",
              "\n",
              "[5 rows x 22 columns]"
            ]
          },
          "metadata": {},
          "execution_count": 211
        }
      ]
    },
    {
      "cell_type": "code",
      "metadata": {
        "id": "USrYQ0vzZeXt"
      },
      "source": [
        "# Lets remove the outliers which are not in between 25% to 75%."
      ],
      "execution_count": 212,
      "outputs": []
    },
    {
      "cell_type": "code",
      "metadata": {
        "colab": {
          "base_uri": "https://localhost:8080/",
          "height": 285
        },
        "id": "6hH0YwzgZ0cQ",
        "outputId": "696241ac-2d81-423d-af0b-f8539d3fa30e"
      },
      "source": [
        "sns.boxplot(data['Rented Bike Count'])\n",
        "plt.show()"
      ],
      "execution_count": 213,
      "outputs": [
        {
          "output_type": "display_data",
          "data": {
            "image/png": "[encoded data removed]",
            "text/plain": [
              "<Figure size 432x288 with 1 Axes>"
            ]
          },
          "metadata": {}
        }
      ]
    },
    {
      "cell_type": "code",
      "metadata": {
        "colab": {
          "base_uri": "https://localhost:8080/"
        },
        "id": "dZmBSEhCax9u",
        "outputId": "19a317a9-50f6-40de-f833-84430cd1523b"
      },
      "source": [
        "# Removing the outliers\n",
        "o1=np.percentile(data['Rented Bike Count'],25,interpolation='midpoint')\n",
        "o2=np.percentile(data['Rented Bike Count'],50,interpolation='midpoint')\n",
        "o3=np.percentile(data['Rented Bike Count'],75,interpolation='midpoint')\n",
        "x=o3-o1\n",
        "low=o1-1.5*x\n",
        "high=o3+1.5*x\n",
        "print('lower limit = ',low)\n",
        "print('upper limit = ',high)"
      ],
      "execution_count": 214,
      "outputs": [
        {
          "output_type": "stream",
          "name": "stdout",
          "text": [
            "lower limit =  -1120.75\n",
            "upper limit =  2377.25\n"
          ]
        }
      ]
    },
    {
      "cell_type": "code",
      "metadata": {
        "colab": {
          "base_uri": "https://localhost:8080/",
          "height": 302
        },
        "id": "iVCFzxFNcKfs",
        "outputId": "7870f818-1bb6-4fea-8b17-51db2d4c042a"
      },
      "source": [
        "data.rename(columns={'Rented Bike Count':'RBC'}, inplace=True)\n",
        "df=data[data.RBC< high]\n",
        "df=df[df.RBC > low] \n",
        "sns.boxplot(df['RBC'])"
      ],
      "execution_count": 217,
      "outputs": [
        {
          "output_type": "execute_result",
          "data": {
            "text/plain": [
              "<matplotlib.axes._subplots.AxesSubplot at 0x7fad5723c490>"
            ]
          },
          "metadata": {},
          "execution_count": 217
        },
        {
          "output_type": "display_data",
          "data": {
            "image/png": "[encoded data removed]",
            "text/plain": [
              "<Figure size 432x288 with 1 Axes>"
            ]
          },
          "metadata": {}
        }
      ]
    },
    {
      "cell_type": "code",
      "metadata": {
        "colab": {
          "base_uri": "https://localhost:8080/",
          "height": 302
        },
        "id": "wQMGISFHcKno",
        "outputId": "9b08ac43-4a67-4667-d6b2-c969d6d2ecdf"
      },
      "source": [
        "sns.boxplot(df['Temperature(C)'])"
      ],
      "execution_count": 218,
      "outputs": [
        {
          "output_type": "execute_result",
          "data": {
            "text/plain": [
              "<matplotlib.axes._subplots.AxesSubplot at 0x7fad57204f90>"
            ]
          },
          "metadata": {},
          "execution_count": 218
        },
        {
          "output_type": "display_data",
          "data": {
            "image/png": "[encoded data removed]",
            "text/plain": [
              "<Figure size 432x288 with 1 Axes>"
            ]
          },
          "metadata": {}
        }
      ]
    },
    {
      "cell_type": "code",
      "metadata": {
        "colab": {
          "base_uri": "https://localhost:8080/",
          "height": 302
        },
        "id": "TJc8VylreOUp",
        "outputId": "9dfe1e65-0195-44b2-91fb-82bf3dee2035"
      },
      "source": [
        "sns.boxplot(df['Wind speed (m/s)'])"
      ],
      "execution_count": 219,
      "outputs": [
        {
          "output_type": "execute_result",
          "data": {
            "text/plain": [
              "<matplotlib.axes._subplots.AxesSubplot at 0x7fad571a5c50>"
            ]
          },
          "metadata": {},
          "execution_count": 219
        },
        {
          "output_type": "display_data",
          "data": {
            "image/png": "[encoded data removed]",
            "text/plain": [
              "<Figure size 432x288 with 1 Axes>"
            ]
          },
          "metadata": {}
        }
      ]
    },
    {
      "cell_type": "code",
      "metadata": {
        "colab": {
          "base_uri": "https://localhost:8080/"
        },
        "id": "isoJUp6aeOfc",
        "outputId": "1afc0819-44a5-4bfa-c4a4-90a30e17b90d"
      },
      "source": [
        "# Lets change it for wind speed also\n",
        "df.rename(columns={'Wind speed (m/s)':'WS'}, inplace=True)\n",
        "o1=np.percentile(data['Wind speed (m/s)'],25,interpolation='midpoint')\n",
        "o2=np.percentile(data['Wind speed (m/s)'],50,interpolation='midpoint')\n",
        "o3=np.percentile(data['Wind speed (m/s)'],75,interpolation='midpoint')\n",
        "x=o3-o1\n",
        "low=o1-1.5*x\n",
        "high=o3+1.5*x\n",
        "print('lower limit = ',low)\n",
        "print('upper limit = ',high)"
      ],
      "execution_count": 220,
      "outputs": [
        {
          "output_type": "stream",
          "name": "stdout",
          "text": [
            "lower limit =  -1.1999999999999997\n",
            "upper limit =  4.3999999999999995\n"
          ]
        }
      ]
    },
    {
      "cell_type": "code",
      "metadata": {
        "colab": {
          "base_uri": "https://localhost:8080/",
          "height": 302
        },
        "id": "oYHCGzlofesR",
        "outputId": "40a99593-34de-44c5-87d0-bd10a8ffceec"
      },
      "source": [
        "df=df[df.WS>low]\n",
        "df=df[df.WS<high]\n",
        "sns.boxplot(df.WS)"
      ],
      "execution_count": 221,
      "outputs": [
        {
          "output_type": "execute_result",
          "data": {
            "text/plain": [
              "<matplotlib.axes._subplots.AxesSubplot at 0x7fad57030710>"
            ]
          },
          "metadata": {},
          "execution_count": 221
        },
        {
          "output_type": "display_data",
          "data": {
            "image/png": "[encoded data removed]",
            "text/plain": [
              "<Figure size 432x288 with 1 Axes>"
            ]
          },
          "metadata": {}
        }
      ]
    },
    {
      "cell_type": "code",
      "metadata": {
        "colab": {
          "base_uri": "https://localhost:8080/",
          "height": 302
        },
        "id": "TFxyuaH7f4Hf",
        "outputId": "32433ff1-5217-4b79-d999-19b8b9293732"
      },
      "source": [
        "sns.boxplot(df['Visibility (10m)'])"
      ],
      "execution_count": 222,
      "outputs": [
        {
          "output_type": "execute_result",
          "data": {
            "text/plain": [
              "<matplotlib.axes._subplots.AxesSubplot at 0x7fad57011b90>"
            ]
          },
          "metadata": {},
          "execution_count": 222
        },
        {
          "output_type": "display_data",
          "data": {
            "image/png": "[encoded data removed]",
            "text/plain": [
              "<Figure size 432x288 with 1 Axes>"
            ]
          },
          "metadata": {}
        }
      ]
    },
    {
      "cell_type": "code",
      "metadata": {
        "colab": {
          "base_uri": "https://localhost:8080/",
          "height": 302
        },
        "id": "Fryf2IcmgIrU",
        "outputId": "8f8560cd-54cc-4b90-a8fe-aa9715238759"
      },
      "source": [
        "sns.boxplot(df['Solar Radiation (MJ/m2)'])"
      ],
      "execution_count": 223,
      "outputs": [
        {
          "output_type": "execute_result",
          "data": {
            "text/plain": [
              "<matplotlib.axes._subplots.AxesSubplot at 0x7fad56f44390>"
            ]
          },
          "metadata": {},
          "execution_count": 223
        },
        {
          "output_type": "display_data",
          "data": {
            "image/png": "[encoded data removed]",
            "text/plain": [
              "<Figure size 432x288 with 1 Axes>"
            ]
          },
          "metadata": {}
        }
      ]
    },
    {
      "cell_type": "code",
      "metadata": {
        "colab": {
          "base_uri": "https://localhost:8080/"
        },
        "id": "2NgC2AcrgP3h",
        "outputId": "0ac3c21f-8bcc-4697-9f44-c8715540625e"
      },
      "source": [
        "df.rename(columns={'Solar Radiation (MJ/m2)':'SR'},inplace=True)\n",
        "o1=np.percentile(data['Solar Radiation (MJ/m2)'],25,interpolation='midpoint')\n",
        "o2=np.percentile(data['Solar Radiation (MJ/m2)'],50,interpolation='midpoint')\n",
        "o3=np.percentile(data['Solar Radiation (MJ/m2)'],75,interpolation='midpoint')\n",
        "x=o3-o1\n",
        "low=o1-1.5*x\n",
        "high=o3+1.5*x\n",
        "print('lower limit = ',low)\n",
        "print('upper limit = ',high)"
      ],
      "execution_count": 224,
      "outputs": [
        {
          "output_type": "stream",
          "name": "stdout",
          "text": [
            "lower limit =  -1.395\n",
            "upper limit =  2.325\n"
          ]
        }
      ]
    },
    {
      "cell_type": "code",
      "metadata": {
        "colab": {
          "base_uri": "https://localhost:8080/",
          "height": 302
        },
        "id": "XkV1f28kguLj",
        "outputId": "05582f0f-7ad9-4e4f-d4d1-4b83c77f2865"
      },
      "source": [
        "df=df[df.SR>low]\n",
        "df=df[df.SR<high]\n",
        "sns.boxplot(df.SR)"
      ],
      "execution_count": 225,
      "outputs": [
        {
          "output_type": "execute_result",
          "data": {
            "text/plain": [
              "<matplotlib.axes._subplots.AxesSubplot at 0x7fad56f24450>"
            ]
          },
          "metadata": {},
          "execution_count": 225
        },
        {
          "output_type": "display_data",
          "data": {
            "image/png": "[encoded data removed]",
            "text/plain": [
              "<Figure size 432x288 with 1 Axes>"
            ]
          },
          "metadata": {}
        }
      ]
    },
    {
      "cell_type": "code",
      "metadata": {
        "colab": {
          "base_uri": "https://localhost:8080/",
          "height": 729
        },
        "id": "f17IpUbV0Zq3",
        "outputId": "87ab2870-30ef-4b28-9227-24810c40e2b5"
      },
      "source": [
        "# Correlation between variables\n",
        "data_corr=data_cat.corr()\n",
        "data_corr"
      ],
      "execution_count": 226,
      "outputs": [
        {
          "output_type": "execute_result",
          "data": {
            "text/html": [
              "<div>\n",
              "<style scoped>\n",
              "    .dataframe tbody tr th:only-of-type {\n",
              "        vertical-align: middle;\n",
              "    }\n",
              "\n",
              "    .dataframe tbody tr th {\n",
              "        vertical-align: top;\n",
              "    }\n",
              "\n",
              "    .dataframe thead th {\n",
              "        text-align: right;\n",
              "    }\n",
              "</style>\n",
              "<table border=\"1\" class=\"dataframe\">\n",
              "  <thead>\n",
              "    <tr style=\"text-align: right;\">\n",
              "      <th></th>\n",
              "      <th>Rented Bike Count</th>\n",
              "      <th>Hour</th>\n",
              "      <th>Temperature(C)</th>\n",
              "      <th>Humidity(%)</th>\n",
              "      <th>Wind speed (m/s)</th>\n",
              "      <th>Visibility (10m)</th>\n",
              "      <th>Dew point temperature(C)</th>\n",
              "      <th>Solar Radiation (MJ/m2)</th>\n",
              "      <th>Rainfall(mm)</th>\n",
              "      <th>Snowfall (cm)</th>\n",
              "      <th>Month</th>\n",
              "      <th>Year</th>\n",
              "      <th>tday</th>\n",
              "      <th>Spring</th>\n",
              "      <th>Summer</th>\n",
              "      <th>Winter</th>\n",
              "      <th>No Holiday</th>\n",
              "      <th>Yes</th>\n",
              "    </tr>\n",
              "  </thead>\n",
              "  <tbody>\n",
              "    <tr>\n",
              "      <th>Rented Bike Count</th>\n",
              "      <td>1.000000</td>\n",
              "      <td>4.102573e-01</td>\n",
              "      <td>0.538558</td>\n",
              "      <td>-0.199780</td>\n",
              "      <td>0.121108</td>\n",
              "      <td>0.199280</td>\n",
              "      <td>0.379788</td>\n",
              "      <td>0.261837</td>\n",
              "      <td>-0.123074</td>\n",
              "      <td>-0.141804</td>\n",
              "      <td>7.086107e-02</td>\n",
              "      <td>0.215162</td>\n",
              "      <td>4.684885e-02</td>\n",
              "      <td>2.288822e-02</td>\n",
              "      <td>2.965494e-01</td>\n",
              "      <td>-4.249251e-01</td>\n",
              "      <td>0.072338</td>\n",
              "      <td>0.203943</td>\n",
              "    </tr>\n",
              "    <tr>\n",
              "      <th>Hour</th>\n",
              "      <td>0.410257</td>\n",
              "      <td>1.000000e+00</td>\n",
              "      <td>0.124114</td>\n",
              "      <td>-0.241644</td>\n",
              "      <td>0.285197</td>\n",
              "      <td>0.098753</td>\n",
              "      <td>0.003054</td>\n",
              "      <td>0.145131</td>\n",
              "      <td>0.008715</td>\n",
              "      <td>-0.021516</td>\n",
              "      <td>2.684858e-18</td>\n",
              "      <td>0.000000</td>\n",
              "      <td>1.598551e-19</td>\n",
              "      <td>1.686710e-19</td>\n",
              "      <td>1.686710e-19</td>\n",
              "      <td>-1.019481e-19</td>\n",
              "      <td>0.000000</td>\n",
              "      <td>0.005439</td>\n",
              "    </tr>\n",
              "    <tr>\n",
              "      <th>Temperature(C)</th>\n",
              "      <td>0.538558</td>\n",
              "      <td>1.241145e-01</td>\n",
              "      <td>1.000000</td>\n",
              "      <td>0.159371</td>\n",
              "      <td>-0.036252</td>\n",
              "      <td>0.034794</td>\n",
              "      <td>0.912798</td>\n",
              "      <td>0.353505</td>\n",
              "      <td>0.050282</td>\n",
              "      <td>-0.218405</td>\n",
              "      <td>4.968327e-02</td>\n",
              "      <td>0.377796</td>\n",
              "      <td>8.090791e-02</td>\n",
              "      <td>7.959684e-03</td>\n",
              "      <td>6.658462e-01</td>\n",
              "      <td>-7.387196e-01</td>\n",
              "      <td>0.055931</td>\n",
              "      <td>-0.050170</td>\n",
              "    </tr>\n",
              "    <tr>\n",
              "      <th>Humidity(%)</th>\n",
              "      <td>-0.199780</td>\n",
              "      <td>-2.416438e-01</td>\n",
              "      <td>0.159371</td>\n",
              "      <td>1.000000</td>\n",
              "      <td>-0.336683</td>\n",
              "      <td>-0.543090</td>\n",
              "      <td>0.536894</td>\n",
              "      <td>-0.461919</td>\n",
              "      <td>0.236397</td>\n",
              "      <td>0.108183</td>\n",
              "      <td>4.779778e-02</td>\n",
              "      <td>0.035925</td>\n",
              "      <td>7.047359e-03</td>\n",
              "      <td>1.569416e-02</td>\n",
              "      <td>1.925949e-01</td>\n",
              "      <td>-2.382952e-01</td>\n",
              "      <td>0.050278</td>\n",
              "      <td>-0.020800</td>\n",
              "    </tr>\n",
              "    <tr>\n",
              "      <th>Wind speed (m/s)</th>\n",
              "      <td>0.121108</td>\n",
              "      <td>2.851967e-01</td>\n",
              "      <td>-0.036252</td>\n",
              "      <td>-0.336683</td>\n",
              "      <td>1.000000</td>\n",
              "      <td>0.171507</td>\n",
              "      <td>-0.176486</td>\n",
              "      <td>0.332274</td>\n",
              "      <td>-0.019674</td>\n",
              "      <td>-0.003554</td>\n",
              "      <td>-8.206909e-02</td>\n",
              "      <td>-0.003781</td>\n",
              "      <td>-6.123440e-02</td>\n",
              "      <td>8.385451e-02</td>\n",
              "      <td>-6.469790e-02</td>\n",
              "      <td>1.091865e-01</td>\n",
              "      <td>-0.023017</td>\n",
              "      <td>0.005037</td>\n",
              "    </tr>\n",
              "    <tr>\n",
              "      <th>Visibility (10m)</th>\n",
              "      <td>0.199280</td>\n",
              "      <td>9.875348e-02</td>\n",
              "      <td>0.034794</td>\n",
              "      <td>-0.543090</td>\n",
              "      <td>0.171507</td>\n",
              "      <td>1.000000</td>\n",
              "      <td>-0.176630</td>\n",
              "      <td>0.149738</td>\n",
              "      <td>-0.167629</td>\n",
              "      <td>-0.121695</td>\n",
              "      <td>7.788783e-02</td>\n",
              "      <td>0.052381</td>\n",
              "      <td>-1.068595e-01</td>\n",
              "      <td>-1.874983e-01</td>\n",
              "      <td>6.195792e-02</td>\n",
              "      <td>8.616224e-03</td>\n",
              "      <td>-0.031773</td>\n",
              "      <td>-0.026000</td>\n",
              "    </tr>\n",
              "    <tr>\n",
              "      <th>Dew point temperature(C)</th>\n",
              "      <td>0.379788</td>\n",
              "      <td>3.054372e-03</td>\n",
              "      <td>0.912798</td>\n",
              "      <td>0.536894</td>\n",
              "      <td>-0.176486</td>\n",
              "      <td>-0.176630</td>\n",
              "      <td>1.000000</td>\n",
              "      <td>0.094381</td>\n",
              "      <td>0.125597</td>\n",
              "      <td>-0.150887</td>\n",
              "      <td>6.510073e-02</td>\n",
              "      <td>0.336350</td>\n",
              "      <td>6.970777e-02</td>\n",
              "      <td>2.055888e-03</td>\n",
              "      <td>6.523778e-01</td>\n",
              "      <td>-7.223664e-01</td>\n",
              "      <td>0.066759</td>\n",
              "      <td>-0.052837</td>\n",
              "    </tr>\n",
              "    <tr>\n",
              "      <th>Solar Radiation (MJ/m2)</th>\n",
              "      <td>0.261837</td>\n",
              "      <td>1.451309e-01</td>\n",
              "      <td>0.353505</td>\n",
              "      <td>-0.461919</td>\n",
              "      <td>0.332274</td>\n",
              "      <td>0.149738</td>\n",
              "      <td>0.094381</td>\n",
              "      <td>1.000000</td>\n",
              "      <td>-0.074290</td>\n",
              "      <td>-0.072301</td>\n",
              "      <td>-3.041240e-02</td>\n",
              "      <td>0.128086</td>\n",
              "      <td>-3.445555e-03</td>\n",
              "      <td>7.997416e-02</td>\n",
              "      <td>1.284017e-01</td>\n",
              "      <td>-1.784202e-01</td>\n",
              "      <td>0.005077</td>\n",
              "      <td>-0.007665</td>\n",
              "    </tr>\n",
              "    <tr>\n",
              "      <th>Rainfall(mm)</th>\n",
              "      <td>-0.123074</td>\n",
              "      <td>8.714642e-03</td>\n",
              "      <td>0.050282</td>\n",
              "      <td>0.236397</td>\n",
              "      <td>-0.019674</td>\n",
              "      <td>-0.167629</td>\n",
              "      <td>0.125597</td>\n",
              "      <td>-0.074290</td>\n",
              "      <td>1.000000</td>\n",
              "      <td>0.008500</td>\n",
              "      <td>-2.279368e-02</td>\n",
              "      <td>0.027522</td>\n",
              "      <td>1.199827e-02</td>\n",
              "      <td>1.759519e-02</td>\n",
              "      <td>5.392817e-02</td>\n",
              "      <td>-5.875456e-02</td>\n",
              "      <td>0.014269</td>\n",
              "      <td>0.002055</td>\n",
              "    </tr>\n",
              "    <tr>\n",
              "      <th>Snowfall (cm)</th>\n",
              "      <td>-0.141804</td>\n",
              "      <td>-2.151645e-02</td>\n",
              "      <td>-0.218405</td>\n",
              "      <td>0.108183</td>\n",
              "      <td>-0.003554</td>\n",
              "      <td>-0.121695</td>\n",
              "      <td>-0.150887</td>\n",
              "      <td>-0.072301</td>\n",
              "      <td>0.008500</td>\n",
              "      <td>1.000000</td>\n",
              "      <td>5.475846e-02</td>\n",
              "      <td>-0.206418</td>\n",
              "      <td>1.014355e-01</td>\n",
              "      <td>-9.978516e-02</td>\n",
              "      <td>-9.978516e-02</td>\n",
              "      <td>2.258745e-01</td>\n",
              "      <td>0.012591</td>\n",
              "      <td>0.032089</td>\n",
              "    </tr>\n",
              "    <tr>\n",
              "      <th>Month</th>\n",
              "      <td>0.070861</td>\n",
              "      <td>2.684858e-18</td>\n",
              "      <td>0.049683</td>\n",
              "      <td>0.047798</td>\n",
              "      <td>-0.082069</td>\n",
              "      <td>0.077888</td>\n",
              "      <td>0.065101</td>\n",
              "      <td>-0.030412</td>\n",
              "      <td>-0.022794</td>\n",
              "      <td>0.054758</td>\n",
              "      <td>1.000000e+00</td>\n",
              "      <td>-0.295561</td>\n",
              "      <td>1.189318e-02</td>\n",
              "      <td>-2.605971e-01</td>\n",
              "      <td>4.869085e-02</td>\n",
              "      <td>-1.370569e-01</td>\n",
              "      <td>0.009059</td>\n",
              "      <td>-0.050807</td>\n",
              "    </tr>\n",
              "    <tr>\n",
              "      <th>Year</th>\n",
              "      <td>0.215162</td>\n",
              "      <td>0.000000e+00</td>\n",
              "      <td>0.377796</td>\n",
              "      <td>0.035925</td>\n",
              "      <td>-0.003781</td>\n",
              "      <td>0.052381</td>\n",
              "      <td>0.336350</td>\n",
              "      <td>0.128086</td>\n",
              "      <td>0.027522</td>\n",
              "      <td>-0.206418</td>\n",
              "      <td>-2.955612e-01</td>\n",
              "      <td>1.000000</td>\n",
              "      <td>-8.341689e-02</td>\n",
              "      <td>1.768562e-01</td>\n",
              "      <td>1.768562e-01</td>\n",
              "      <td>-5.325406e-01</td>\n",
              "      <td>0.112163</td>\n",
              "      <td>-0.056873</td>\n",
              "    </tr>\n",
              "    <tr>\n",
              "      <th>tday</th>\n",
              "      <td>0.046849</td>\n",
              "      <td>1.598551e-19</td>\n",
              "      <td>0.080908</td>\n",
              "      <td>0.007047</td>\n",
              "      <td>-0.061234</td>\n",
              "      <td>-0.106859</td>\n",
              "      <td>0.069708</td>\n",
              "      <td>-0.003446</td>\n",
              "      <td>0.011998</td>\n",
              "      <td>0.101435</td>\n",
              "      <td>1.189318e-02</td>\n",
              "      <td>-0.083417</td>\n",
              "      <td>1.000000e+00</td>\n",
              "      <td>-5.687848e-02</td>\n",
              "      <td>2.059465e-02</td>\n",
              "      <td>-5.119772e-02</td>\n",
              "      <td>-0.015867</td>\n",
              "      <td>0.040256</td>\n",
              "    </tr>\n",
              "    <tr>\n",
              "      <th>Spring</th>\n",
              "      <td>0.022888</td>\n",
              "      <td>1.686710e-19</td>\n",
              "      <td>0.007960</td>\n",
              "      <td>0.015694</td>\n",
              "      <td>0.083855</td>\n",
              "      <td>-0.187498</td>\n",
              "      <td>0.002056</td>\n",
              "      <td>0.079974</td>\n",
              "      <td>0.017595</td>\n",
              "      <td>-0.099785</td>\n",
              "      <td>-2.605971e-01</td>\n",
              "      <td>0.176856</td>\n",
              "      <td>-5.687848e-02</td>\n",
              "      <td>1.000000e+00</td>\n",
              "      <td>-3.369963e-01</td>\n",
              "      <td>-3.320989e-01</td>\n",
              "      <td>0.044791</td>\n",
              "      <td>0.038413</td>\n",
              "    </tr>\n",
              "    <tr>\n",
              "      <th>Summer</th>\n",
              "      <td>0.296549</td>\n",
              "      <td>1.686710e-19</td>\n",
              "      <td>0.665846</td>\n",
              "      <td>0.192595</td>\n",
              "      <td>-0.064698</td>\n",
              "      <td>0.061958</td>\n",
              "      <td>0.652378</td>\n",
              "      <td>0.128402</td>\n",
              "      <td>0.053928</td>\n",
              "      <td>-0.099785</td>\n",
              "      <td>4.869085e-02</td>\n",
              "      <td>0.176856</td>\n",
              "      <td>2.059465e-02</td>\n",
              "      <td>-3.369963e-01</td>\n",
              "      <td>1.000000e+00</td>\n",
              "      <td>-3.320989e-01</td>\n",
              "      <td>0.073932</td>\n",
              "      <td>0.108370</td>\n",
              "    </tr>\n",
              "    <tr>\n",
              "      <th>Winter</th>\n",
              "      <td>-0.424925</td>\n",
              "      <td>-1.019481e-19</td>\n",
              "      <td>-0.738720</td>\n",
              "      <td>-0.238295</td>\n",
              "      <td>0.109186</td>\n",
              "      <td>0.008616</td>\n",
              "      <td>-0.722366</td>\n",
              "      <td>-0.178420</td>\n",
              "      <td>-0.058755</td>\n",
              "      <td>0.225875</td>\n",
              "      <td>-1.370569e-01</td>\n",
              "      <td>-0.532541</td>\n",
              "      <td>-5.119772e-02</td>\n",
              "      <td>-3.320989e-01</td>\n",
              "      <td>-3.320989e-01</td>\n",
              "      <td>1.000000e+00</td>\n",
              "      <td>-0.104557</td>\n",
              "      <td>0.106795</td>\n",
              "    </tr>\n",
              "    <tr>\n",
              "      <th>No Holiday</th>\n",
              "      <td>0.072338</td>\n",
              "      <td>0.000000e+00</td>\n",
              "      <td>0.055931</td>\n",
              "      <td>0.050278</td>\n",
              "      <td>-0.023017</td>\n",
              "      <td>-0.031773</td>\n",
              "      <td>0.066759</td>\n",
              "      <td>0.005077</td>\n",
              "      <td>0.014269</td>\n",
              "      <td>0.012591</td>\n",
              "      <td>9.059045e-03</td>\n",
              "      <td>0.112163</td>\n",
              "      <td>-1.586655e-02</td>\n",
              "      <td>4.479057e-02</td>\n",
              "      <td>7.393239e-02</td>\n",
              "      <td>-1.045574e-01</td>\n",
              "      <td>1.000000</td>\n",
              "      <td>0.027624</td>\n",
              "    </tr>\n",
              "    <tr>\n",
              "      <th>Yes</th>\n",
              "      <td>0.203943</td>\n",
              "      <td>5.439377e-03</td>\n",
              "      <td>-0.050170</td>\n",
              "      <td>-0.020800</td>\n",
              "      <td>0.005037</td>\n",
              "      <td>-0.026000</td>\n",
              "      <td>-0.052837</td>\n",
              "      <td>-0.007665</td>\n",
              "      <td>0.002055</td>\n",
              "      <td>0.032089</td>\n",
              "      <td>-5.080746e-02</td>\n",
              "      <td>-0.056873</td>\n",
              "      <td>4.025557e-02</td>\n",
              "      <td>3.841275e-02</td>\n",
              "      <td>1.083703e-01</td>\n",
              "      <td>1.067954e-01</td>\n",
              "      <td>0.027624</td>\n",
              "      <td>1.000000</td>\n",
              "    </tr>\n",
              "  </tbody>\n",
              "</table>\n",
              "</div>"
            ],
            "text/plain": [
              "                          Rented Bike Count          Hour  ...  No Holiday       Yes\n",
              "Rented Bike Count                  1.000000  4.102573e-01  ...    0.072338  0.203943\n",
              "Hour                               0.410257  1.000000e+00  ...    0.000000  0.005439\n",
              "Temperature(C)                     0.538558  1.241145e-01  ...    0.055931 -0.050170\n",
              "Humidity(%)                       -0.199780 -2.416438e-01  ...    0.050278 -0.020800\n",
              "Wind speed (m/s)                   0.121108  2.851967e-01  ...   -0.023017  0.005037\n",
              "Visibility (10m)                   0.199280  9.875348e-02  ...   -0.031773 -0.026000\n",
              "Dew point temperature(C)           0.379788  3.054372e-03  ...    0.066759 -0.052837\n",
              "Solar Radiation (MJ/m2)            0.261837  1.451309e-01  ...    0.005077 -0.007665\n",
              "Rainfall(mm)                      -0.123074  8.714642e-03  ...    0.014269  0.002055\n",
              "Snowfall (cm)                     -0.141804 -2.151645e-02  ...    0.012591  0.032089\n",
              "Month                              0.070861  2.684858e-18  ...    0.009059 -0.050807\n",
              "Year                               0.215162  0.000000e+00  ...    0.112163 -0.056873\n",
              "tday                               0.046849  1.598551e-19  ...   -0.015867  0.040256\n",
              "Spring                             0.022888  1.686710e-19  ...    0.044791  0.038413\n",
              "Summer                             0.296549  1.686710e-19  ...    0.073932  0.108370\n",
              "Winter                            -0.424925 -1.019481e-19  ...   -0.104557  0.106795\n",
              "No Holiday                         0.072338  0.000000e+00  ...    1.000000  0.027624\n",
              "Yes                                0.203943  5.439377e-03  ...    0.027624  1.000000\n",
              "\n",
              "[18 rows x 18 columns]"
            ]
          },
          "metadata": {},
          "execution_count": 226
        }
      ]
    },
    {
      "cell_type": "code",
      "metadata": {
        "colab": {
          "base_uri": "https://localhost:8080/",
          "height": 725
        },
        "id": "lLhA7C70zqDp",
        "outputId": "d50aacd9-2ea0-4f8e-cc9a-3d1ae5ed5982"
      },
      "source": [
        "# Heatmap\n",
        "corr=data.corr()\n",
        "plt.figure(figsize=(12,12))\n",
        "print('Correlation between the variables')\n",
        "sns.heatmap(corr, annot=True , cmap='cubehelix_r', square=True)"
      ],
      "execution_count": 227,
      "outputs": [
        {
          "output_type": "stream",
          "name": "stdout",
          "text": [
            "Correlation between the variables\n"
          ]
        },
        {
          "output_type": "execute_result",
          "data": {
            "text/plain": [
              "<matplotlib.axes._subplots.AxesSubplot at 0x7fad56e77890>"
            ]
          },
          "metadata": {},
          "execution_count": 227
        },
        {
          "output_type": "display_data",
          "data": {
            "image/png": "[encoded data removed]",
            "text/plain": [
              "<Figure size 864x864 with 2 Axes>"
            ]
          },
          "metadata": {}
        }
      ]
    },
    {
      "cell_type": "markdown",
      "metadata": {
        "id": "6I_pnqfS1RYC"
      },
      "source": [
        "We plot the heatmap to understant the correlation between the variables, with rented bike concidering the relation more the 30% are Hour, temperature(C) and Dew point tempature,  Hence the tempature and dew point tempature is highly correlated we can eliminate the Dew point tempature.\n"
      ]
    },
    {
      "cell_type": "code",
      "metadata": {
        "id": "SYNbARC9o0bC"
      },
      "source": [
        "#Droping the Dew point tempature.\n",
        "data =data.drop(['Dew point temperature(C)'],axis=1)"
      ],
      "execution_count": 228,
      "outputs": []
    },
    {
      "cell_type": "code",
      "metadata": {
        "colab": {
          "base_uri": "https://localhost:8080/"
        },
        "id": "id49AnuzfLfD",
        "outputId": "b2029392-5cb1-409f-ee27-cc3737817e79"
      },
      "source": [
        "data.info()"
      ],
      "execution_count": 229,
      "outputs": [
        {
          "output_type": "stream",
          "name": "stdout",
          "text": [
            "<class 'pandas.core.frame.DataFrame'>\n",
            "RangeIndex: 8760 entries, 0 to 8759\n",
            "Data columns (total 16 columns):\n",
            " #   Column                   Non-Null Count  Dtype         \n",
            "---  ------                   --------------  -----         \n",
            " 0   Date                     8760 non-null   datetime64[ns]\n",
            " 1   RBC                      8760 non-null   int64         \n",
            " 2   Hour                     8760 non-null   int64         \n",
            " 3   Temperature(C)           8760 non-null   float64       \n",
            " 4   Humidity(%)              8760 non-null   int64         \n",
            " 5   Wind speed (m/s)         8760 non-null   float64       \n",
            " 6   Visibility (10m)         8760 non-null   int64         \n",
            " 7   Solar Radiation (MJ/m2)  8760 non-null   float64       \n",
            " 8   Rainfall(mm)             8760 non-null   float64       \n",
            " 9   Snowfall (cm)            8760 non-null   float64       \n",
            " 10  Seasons                  8760 non-null   object        \n",
            " 11  Holiday                  8760 non-null   object        \n",
            " 12  Functioning Day          8760 non-null   object        \n",
            " 13  Month                    8760 non-null   int64         \n",
            " 14  Year                     8760 non-null   int64         \n",
            " 15  tday                     8760 non-null   int64         \n",
            "dtypes: datetime64[ns](1), float64(5), int64(7), object(3)\n",
            "memory usage: 1.1+ MB\n"
          ]
        }
      ]
    },
    {
      "cell_type": "code",
      "metadata": {
        "colab": {
          "base_uri": "https://localhost:8080/"
        },
        "id": "hKijb-bvYZW_",
        "outputId": "af8e8e38-f07a-4b47-cba8-641b7d1670ac"
      },
      "source": [
        "data.columns.values"
      ],
      "execution_count": 230,
      "outputs": [
        {
          "output_type": "execute_result",
          "data": {
            "text/plain": [
              "array(['Date', 'RBC', 'Hour', 'Temperature(C)', 'Humidity(%)',\n",
              "       'Wind speed (m/s)', 'Visibility (10m)', 'Solar Radiation (MJ/m2)',\n",
              "       'Rainfall(mm)', 'Snowfall (cm)', 'Seasons', 'Holiday',\n",
              "       'Functioning Day', 'Month', 'Year', 'tday'], dtype=object)"
            ]
          },
          "metadata": {},
          "execution_count": 230
        }
      ]
    },
    {
      "cell_type": "code",
      "metadata": {
        "colab": {
          "base_uri": "https://localhost:8080/",
          "height": 473
        },
        "id": "0_z1AOgAYve3",
        "outputId": "85b4d024-8661-4a12-e6fc-007dadda99de"
      },
      "source": [
        "data.drop(['Date','Seasons','Holiday','Functioning Day','Rainfall(mm)'],axis=1)\n"
      ],
      "execution_count": 231,
      "outputs": [
        {
          "output_type": "execute_result",
          "data": {
            "text/html": [
              "<div>\n",
              "<style scoped>\n",
              "    .dataframe tbody tr th:only-of-type {\n",
              "        vertical-align: middle;\n",
              "    }\n",
              "\n",
              "    .dataframe tbody tr th {\n",
              "        vertical-align: top;\n",
              "    }\n",
              "\n",
              "    .dataframe thead th {\n",
              "        text-align: right;\n",
              "    }\n",
              "</style>\n",
              "<table border=\"1\" class=\"dataframe\">\n",
              "  <thead>\n",
              "    <tr style=\"text-align: right;\">\n",
              "      <th></th>\n",
              "      <th>RBC</th>\n",
              "      <th>Hour</th>\n",
              "      <th>Temperature(C)</th>\n",
              "      <th>Humidity(%)</th>\n",
              "      <th>Wind speed (m/s)</th>\n",
              "      <th>Visibility (10m)</th>\n",
              "      <th>Solar Radiation (MJ/m2)</th>\n",
              "      <th>Snowfall (cm)</th>\n",
              "      <th>Month</th>\n",
              "      <th>Year</th>\n",
              "      <th>tday</th>\n",
              "    </tr>\n",
              "  </thead>\n",
              "  <tbody>\n",
              "    <tr>\n",
              "      <th>0</th>\n",
              "      <td>254</td>\n",
              "      <td>0</td>\n",
              "      <td>-5.2</td>\n",
              "      <td>37</td>\n",
              "      <td>2.2</td>\n",
              "      <td>2000</td>\n",
              "      <td>0.0</td>\n",
              "      <td>0.0</td>\n",
              "      <td>1</td>\n",
              "      <td>2017</td>\n",
              "      <td>12</td>\n",
              "    </tr>\n",
              "    <tr>\n",
              "      <th>1</th>\n",
              "      <td>204</td>\n",
              "      <td>1</td>\n",
              "      <td>-5.5</td>\n",
              "      <td>38</td>\n",
              "      <td>0.8</td>\n",
              "      <td>2000</td>\n",
              "      <td>0.0</td>\n",
              "      <td>0.0</td>\n",
              "      <td>1</td>\n",
              "      <td>2017</td>\n",
              "      <td>12</td>\n",
              "    </tr>\n",
              "    <tr>\n",
              "      <th>2</th>\n",
              "      <td>173</td>\n",
              "      <td>2</td>\n",
              "      <td>-6.0</td>\n",
              "      <td>39</td>\n",
              "      <td>1.0</td>\n",
              "      <td>2000</td>\n",
              "      <td>0.0</td>\n",
              "      <td>0.0</td>\n",
              "      <td>1</td>\n",
              "      <td>2017</td>\n",
              "      <td>12</td>\n",
              "    </tr>\n",
              "    <tr>\n",
              "      <th>3</th>\n",
              "      <td>107</td>\n",
              "      <td>3</td>\n",
              "      <td>-6.2</td>\n",
              "      <td>40</td>\n",
              "      <td>0.9</td>\n",
              "      <td>2000</td>\n",
              "      <td>0.0</td>\n",
              "      <td>0.0</td>\n",
              "      <td>1</td>\n",
              "      <td>2017</td>\n",
              "      <td>12</td>\n",
              "    </tr>\n",
              "    <tr>\n",
              "      <th>4</th>\n",
              "      <td>78</td>\n",
              "      <td>4</td>\n",
              "      <td>-6.0</td>\n",
              "      <td>36</td>\n",
              "      <td>2.3</td>\n",
              "      <td>2000</td>\n",
              "      <td>0.0</td>\n",
              "      <td>0.0</td>\n",
              "      <td>1</td>\n",
              "      <td>2017</td>\n",
              "      <td>12</td>\n",
              "    </tr>\n",
              "    <tr>\n",
              "      <th>...</th>\n",
              "      <td>...</td>\n",
              "      <td>...</td>\n",
              "      <td>...</td>\n",
              "      <td>...</td>\n",
              "      <td>...</td>\n",
              "      <td>...</td>\n",
              "      <td>...</td>\n",
              "      <td>...</td>\n",
              "      <td>...</td>\n",
              "      <td>...</td>\n",
              "      <td>...</td>\n",
              "    </tr>\n",
              "    <tr>\n",
              "      <th>8755</th>\n",
              "      <td>1003</td>\n",
              "      <td>19</td>\n",
              "      <td>4.2</td>\n",
              "      <td>34</td>\n",
              "      <td>2.6</td>\n",
              "      <td>1894</td>\n",
              "      <td>0.0</td>\n",
              "      <td>0.0</td>\n",
              "      <td>11</td>\n",
              "      <td>2018</td>\n",
              "      <td>30</td>\n",
              "    </tr>\n",
              "    <tr>\n",
              "      <th>8756</th>\n",
              "      <td>764</td>\n",
              "      <td>20</td>\n",
              "      <td>3.4</td>\n",
              "      <td>37</td>\n",
              "      <td>2.3</td>\n",
              "      <td>2000</td>\n",
              "      <td>0.0</td>\n",
              "      <td>0.0</td>\n",
              "      <td>11</td>\n",
              "      <td>2018</td>\n",
              "      <td>30</td>\n",
              "    </tr>\n",
              "    <tr>\n",
              "      <th>8757</th>\n",
              "      <td>694</td>\n",
              "      <td>21</td>\n",
              "      <td>2.6</td>\n",
              "      <td>39</td>\n",
              "      <td>0.3</td>\n",
              "      <td>1968</td>\n",
              "      <td>0.0</td>\n",
              "      <td>0.0</td>\n",
              "      <td>11</td>\n",
              "      <td>2018</td>\n",
              "      <td>30</td>\n",
              "    </tr>\n",
              "    <tr>\n",
              "      <th>8758</th>\n",
              "      <td>712</td>\n",
              "      <td>22</td>\n",
              "      <td>2.1</td>\n",
              "      <td>41</td>\n",
              "      <td>1.0</td>\n",
              "      <td>1859</td>\n",
              "      <td>0.0</td>\n",
              "      <td>0.0</td>\n",
              "      <td>11</td>\n",
              "      <td>2018</td>\n",
              "      <td>30</td>\n",
              "    </tr>\n",
              "    <tr>\n",
              "      <th>8759</th>\n",
              "      <td>584</td>\n",
              "      <td>23</td>\n",
              "      <td>1.9</td>\n",
              "      <td>43</td>\n",
              "      <td>1.3</td>\n",
              "      <td>1909</td>\n",
              "      <td>0.0</td>\n",
              "      <td>0.0</td>\n",
              "      <td>11</td>\n",
              "      <td>2018</td>\n",
              "      <td>30</td>\n",
              "    </tr>\n",
              "  </tbody>\n",
              "</table>\n",
              "<p>8760 rows × 11 columns</p>\n",
              "</div>"
            ],
            "text/plain": [
              "       RBC  Hour  Temperature(C)  Humidity(%)  ...  Snowfall (cm)  Month  Year  tday\n",
              "0      254     0            -5.2           37  ...            0.0      1  2017    12\n",
              "1      204     1            -5.5           38  ...            0.0      1  2017    12\n",
              "2      173     2            -6.0           39  ...            0.0      1  2017    12\n",
              "3      107     3            -6.2           40  ...            0.0      1  2017    12\n",
              "4       78     4            -6.0           36  ...            0.0      1  2017    12\n",
              "...    ...   ...             ...          ...  ...            ...    ...   ...   ...\n",
              "8755  1003    19             4.2           34  ...            0.0     11  2018    30\n",
              "8756   764    20             3.4           37  ...            0.0     11  2018    30\n",
              "8757   694    21             2.6           39  ...            0.0     11  2018    30\n",
              "8758   712    22             2.1           41  ...            0.0     11  2018    30\n",
              "8759   584    23             1.9           43  ...            0.0     11  2018    30\n",
              "\n",
              "[8760 rows x 11 columns]"
            ]
          },
          "metadata": {},
          "execution_count": 231
        }
      ]
    },
    {
      "cell_type": "code",
      "metadata": {
        "id": "U5kyRfbrwYvM"
      },
      "source": [
        "# Building the linear regression model to predict rented bike count by choosing appropriate independentvariables."
      ],
      "execution_count": 175,
      "outputs": []
    },
    {
      "cell_type": "code",
      "metadata": {
        "id": "53bbkFBlxZA8"
      },
      "source": [
        "from sklearn.model_selection import train_test_split\n",
        "from sklearn import linear_model\n",
        "from sklearn import preprocessing\n",
        "from sklearn.metrics import mean_squared_error,mean_absolute_error, r2_score\n",
        "from sklearn.linear_model import Ridge\n",
        "from sklearn.linear_model import Lasso"
      ],
      "execution_count": 232,
      "outputs": []
    },
    {
      "cell_type": "code",
      "metadata": {
        "colab": {
          "base_uri": "https://localhost:8080/"
        },
        "id": "xltBmP_1Dyg6",
        "outputId": "6851f6c0-23a5-418d-d6ac-2ece3278b9de"
      },
      "source": [
        "# 80% of dataset\n",
        "X_train.shape, Y_train.shape"
      ],
      "execution_count": 233,
      "outputs": [
        {
          "output_type": "execute_result",
          "data": {
            "text/plain": [
              "((7008, 11), (7008,))"
            ]
          },
          "metadata": {},
          "execution_count": 233
        }
      ]
    },
    {
      "cell_type": "code",
      "metadata": {
        "colab": {
          "base_uri": "https://localhost:8080/"
        },
        "id": "SMaW27fiD7iU",
        "outputId": "79c74681-165c-40d1-88fa-181da04ff92a"
      },
      "source": [
        "# 20% of dataset\n",
        "X_test.shape, Y_test.shape"
      ],
      "execution_count": 234,
      "outputs": [
        {
          "output_type": "execute_result",
          "data": {
            "text/plain": [
              "((1752, 11), (1752,))"
            ]
          },
          "metadata": {},
          "execution_count": 234
        }
      ]
    },
    {
      "cell_type": "code",
      "metadata": {
        "id": "AUeX8mtACppv"
      },
      "source": [
        "# Linear Regression Model\n",
        "regr = linear_model.LinearRegression()\n",
        "fitregr=regr.fit(X_train, Y_train)\n",
        "predregrtrain=fitregr.predict(X_train)\n",
        "predregrtest=fitregr.predict(X_test)"
      ],
      "execution_count": 235,
      "outputs": []
    },
    {
      "cell_type": "code",
      "metadata": {
        "id": "acEbqCkCKlGA"
      },
      "source": [
        "# Predicts the X_train\n",
        "Y_pred_train = regr.predict(X_train)"
      ],
      "execution_count": 236,
      "outputs": []
    },
    {
      "cell_type": "code",
      "metadata": {
        "colab": {
          "base_uri": "https://localhost:8080/"
        },
        "id": "vS84_UR-MDEr",
        "outputId": "34367c65-aecf-42ae-bdc1-1fd4e1bd3323"
      },
      "source": [
        "print('Coefficients:', regr.coef_)\n",
        "print('Intercept:', regr.intercept_)\n",
        "print('Mean squared error (MSE): %.2f'\n",
        "      % mean_squared_error(Y_train, Y_pred_train))\n",
        "print('Coefficient of determination (R^2): %.2f'\n",
        "      % r2_score(Y_train, Y_pred_train))"
      ],
      "execution_count": 238,
      "outputs": [
        {
          "output_type": "stream",
          "name": "stdout",
          "text": [
            "Coefficients: [ 2.73174363e+01  3.08756143e+01 -7.53698534e+00  1.62038291e+01\n",
            "  1.45219127e-02 -8.33357245e+01 -5.90917550e+01  2.17585277e+01\n",
            "  1.20567462e+01  1.16607630e+02  7.54546452e-01]\n",
            "Intercept: -234957.57818614857\n",
            "Mean squared error (MSE): 221417.21\n",
            "Coefficient of determination (R^2): 0.48\n"
          ]
        }
      ]
    },
    {
      "cell_type": "code",
      "metadata": {
        "id": "hXU7tsRbMOsp"
      },
      "source": [
        "# Predicts the X_test\n",
        "Y_pred_test = regr.predict(X_test)"
      ],
      "execution_count": 239,
      "outputs": []
    },
    {
      "cell_type": "code",
      "metadata": {
        "colab": {
          "base_uri": "https://localhost:8080/"
        },
        "id": "fT6YrTjtMZ5O",
        "outputId": "666e55ae-ebd2-44fe-c08e-80815da84585"
      },
      "source": [
        "print('Coefficients:', regr.coef_)\n",
        "print('Intercept:', regr.intercept_)\n",
        "print('Mean squared error (MSE): %.2f'\n",
        "      % mean_squared_error(Y_test, Y_pred_test))\n",
        "print('Coefficient of determination (R^2): %.2f'\n",
        "      % r2_score(Y_test, Y_pred_test))"
      ],
      "execution_count": 243,
      "outputs": [
        {
          "output_type": "stream",
          "name": "stdout",
          "text": [
            "Coefficients: [ 2.73174363e+01  3.08756143e+01 -7.53698534e+00  1.62038291e+01\n",
            "  1.45219127e-02 -8.33357245e+01 -5.90917550e+01  2.17585277e+01\n",
            "  1.20567462e+01  1.16607630e+02  7.54546452e-01]\n",
            "Intercept: -234957.57818614857\n",
            "Mean squared error (MSE): 207922.47\n",
            "Coefficient of determination (R^2): 0.47\n"
          ]
        }
      ]
    },
    {
      "cell_type": "code",
      "metadata": {
        "colab": {
          "base_uri": "https://localhost:8080/"
        },
        "id": "Fmd9llMbmrNL",
        "outputId": "805eec21-6b36-41aa-aeeb-a3de33d59b83"
      },
      "source": [
        "# Linear regression equation \n",
        "print('yintercept = %.2f' % regr.intercept_)\n",
        "print('LogP = %.2f LogP' % regr.coef_[0])\n",
        "print('MW = %.4f MW' % regr.coef_[1])\n",
        "print('RB = %.4f RB' % regr.coef_[2])\n",
        "print('AP = %.2f AP' % regr.coef_[3])"
      ],
      "execution_count": 242,
      "outputs": [
        {
          "output_type": "stream",
          "name": "stdout",
          "text": [
            "yintercept = -234957.58\n",
            "LogP = 27.32 LogP\n",
            "MW = 30.8756 MW\n",
            "RB = -7.5370 RB\n",
            "AP = 16.20 AP\n"
          ]
        }
      ]
    },
    {
      "cell_type": "code",
      "metadata": {
        "colab": {
          "base_uri": "https://localhost:8080/",
          "height": 665
        },
        "id": "dVjoF8LyMhSz",
        "outputId": "dd21322f-b4ea-458f-acd2-4a63bad60934"
      },
      "source": [
        "# Scatter plot of experimental vs. predicted Logs\n",
        "import matplotlib.pyplot as plt\n",
        "import numpy as np\n",
        "plt.figure(figsize=(5,11))\n",
        "plt.subplot(2,1,1)\n",
        "plt.scatter(x=Y_train,y=Y_pred_train, c='#7CAE00',alpha=0.3)\n",
        "z=np.polyfit(Y_train,Y_pred_train,1)\n",
        "p = np.poly1d(z)\n",
        "plt.plot(Y_test,p(Y_test),'#F8766D')\n",
        "plt.ylabel('Predicted Logs')\n",
        "\n",
        "z = np.polyfit(Y_train, Y_pred_train, 1)\n",
        "p = np.poly1d(z)\n",
        "plt.plot(Y_test,p(Y_test),\"#F8766D\")\n",
        "\n",
        "plt.ylabel('Predicted LogS')\n",
        "\n",
        "plt.subplot(2, 1, 2)\n",
        "plt.scatter(x=Y_test, y=Y_pred_test, c=\"#619CFF\", alpha=0.3)\n",
        "\n",
        "z = np.polyfit(Y_test, Y_pred_test, 1)\n",
        "p = np.poly1d(z)\n",
        "plt.plot(Y_test,p(Y_test),\"#F8766D\")\n",
        "\n",
        "plt.ylabel('Predicted LogS')\n",
        "plt.xlabel('Experimental LogS')\n",
        "plt.show()"
      ],
      "execution_count": 93,
      "outputs": [
        {
          "output_type": "display_data",
          "data": {
            "image/png": "[encoded data removed]",
            "text/plain": [
              "<Figure size 360x792 with 2 Axes>"
            ]
          },
          "metadata": {}
        }
      ]
    },
    {
      "cell_type": "code",
      "metadata": {
        "id": "o-3c47xyNEBW"
      },
      "source": [
        ""
      ],
      "execution_count": null,
      "outputs": []
    }
  ]
}